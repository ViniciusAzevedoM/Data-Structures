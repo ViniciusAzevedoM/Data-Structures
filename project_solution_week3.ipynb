{
 "cells": [
  {
   "attachments": {},
   "cell_type": "markdown",
   "metadata": {
    "colab_type": "text",
    "id": "BbNlkiA8dw2i"
   },
   "source": [
    "# The purpose of this project is to refactor the code cells"
   ]
  },
  {
   "cell_type": "code",
   "execution_count": 1,
   "metadata": {
    "colab": {},
    "colab_type": "code",
    "id": "g5xdxIaYdw2j"
   },
   "outputs": [],
   "source": [
    "import csv\n",
    "\n",
    "### The Google Play data set ###\n",
    "with open('googleplaystore.csv', encoding='utf-8') as file:\n",
    "    android = list(csv.reader(file))\n",
    "android_header = android[0]\n",
    "android = android[1:]\n",
    "\n",
    "### The App Store data set ###\n",
    "with open('AppleStore.csv', encoding='utf-8') as file:\n",
    "    ios = list(csv.reader(file))\n",
    "ios_header = ios[0]\n",
    "ios = ios[1:]"
   ]
  },
  {
   "cell_type": "code",
   "execution_count": null,
   "metadata": {
    "colab": {},
    "colab_type": "code",
    "id": "h22cRL40dw2p",
    "outputId": "21e603e4-b988-48dc-f8ec-069949de1e84"
   },
   "outputs": [],
   "source": [
    "def explore_data(dataset, start, end, show_rows_and_columns=False):\n",
    "    dataset_slice = dataset[start:end]    \n",
    "    for row in dataset_slice:\n",
    "        print(row)\n",
    "        print() # adds a new (empty) line between rows\n",
    "        \n",
    "    if show_rows_and_columns:\n",
    "        num_rows = len(dataset)\n",
    "        num_cols = len(dataset[0])\n",
    "        print(f'Number of rows: {num_rows}')\n",
    "        print(f'Number of columns: {num_cols}')\n",
    "\n",
    "# Print header of android dataset\n",
    "print(android_header)\n",
    "print()\n",
    "\n",
    "# Explore android dataset\n",
    "explore_data(android, 0, 3, show_rows_and_columns=True)\n"
   ]
  },
  {
   "cell_type": "code",
   "execution_count": null,
   "metadata": {
    "colab": {},
    "colab_type": "code",
    "id": "8Gb1lsaAdw2y",
    "outputId": "715331b0-6c15-4e28-8f0c-e876f16c3e29"
   },
   "outputs": [],
   "source": [
    "print(ios_header)\n",
    "print()\n",
    "explore_data(ios, 0, 3, True)"
   ]
  },
  {
   "cell_type": "code",
   "execution_count": null,
   "metadata": {
    "colab": {},
    "colab_type": "code",
    "id": "cJxTPUn2dw23",
    "outputId": "1b752112-0fca-4303-d573-b18d1fb3d17a"
   },
   "outputs": [],
   "source": [
    "print(android[10472])  # incorrect row\n",
    "print()\n",
    "print(android_header)  # header\n",
    "print()\n",
    "print(android[0])      # correct row"
   ]
  },
  {
   "cell_type": "code",
   "execution_count": null,
   "metadata": {
    "colab": {},
    "colab_type": "code",
    "id": "qjH4wG67dw3B",
    "outputId": "0dde0972-18a5-4784-d19d-c36eb9553652"
   },
   "outputs": [],
   "source": [
    "print(len(android))\n",
    "del android[10472]  # don't run this more than once\n",
    "print(len(android))"
   ]
  },
  {
   "cell_type": "code",
   "execution_count": null,
   "metadata": {
    "colab": {},
    "colab_type": "code",
    "id": "EqXZrUdNdw3G",
    "outputId": "2a625721-c86c-4913-ebb0-48be73303bf7"
   },
   "outputs": [],
   "source": [
    "for app in android:\n",
    "    name = app[0]\n",
    "    if name == 'Instagram':\n",
    "        print(app)"
   ]
  },
  {
   "cell_type": "code",
   "execution_count": null,
   "metadata": {
    "colab": {},
    "colab_type": "code",
    "id": "BDUzP8jRdw3M",
    "outputId": "db3dce62-70db-42b0-cd7c-0f2ba2c84403"
   },
   "outputs": [],
   "source": [
    "unique_apps = set()\n",
    "duplicate_apps = set()\n",
    "\n",
    "for app in android:\n",
    "    name = app[0]\n",
    "    if name in unique_apps:\n",
    "        duplicate_apps.add(name)\n",
    "    else:\n",
    "        unique_apps.add(name)\n",
    "    \n",
    "print('Number of duplicate apps:', len(duplicate_apps))\n",
    "print('\\n')\n",
    "print('Examples of duplicate apps:', list(duplicate_apps)[:15])\n"
   ]
  },
  {
   "cell_type": "code",
   "execution_count": 8,
   "metadata": {
    "colab": {},
    "colab_type": "code",
    "id": "TYBPi8d9dw3T"
   },
   "outputs": [],
   "source": [
    "reviews_max = {}\n",
    "\n",
    "for app in android:\n",
    "    name = app[0]\n",
    "    n_reviews = float(app[3])\n",
    "    \n",
    "    if name not in reviews_max:\n",
    "        reviews_max[name] = n_reviews\n",
    "        \n",
    "    elif n_reviews > reviews_max[name]:\n",
    "        reviews_max[name] = n_reviews"
   ]
  },
  {
   "cell_type": "code",
   "execution_count": null,
   "metadata": {
    "colab": {},
    "colab_type": "code",
    "id": "wtGBkHKBdw3V",
    "outputId": "6a9c1c68-9ee5-4463-b4c2-797e8c705f78"
   },
   "outputs": [],
   "source": [
    "print('Expected length:', len(android) - 1181)\n",
    "print('Actual length:', len(reviews_max))"
   ]
  },
  {
   "cell_type": "code",
   "execution_count": 10,
   "metadata": {
    "colab": {},
    "colab_type": "code",
    "id": "pRuxSg3Ddw3Z"
   },
   "outputs": [],
   "source": [
    "android_clean = []\n",
    "already_added = set()\n",
    "\n",
    "for app in android:\n",
    "    name = app[0]\n",
    "    n_reviews = float(app[3])\n",
    "    \n",
    "    if (reviews_max[name] == n_reviews) and (name not in already_added):\n",
    "        android_clean.append(app)\n",
    "        already_added.add(name)"
   ]
  },
  {
   "cell_type": "code",
   "execution_count": null,
   "metadata": {
    "colab": {},
    "colab_type": "code",
    "id": "8xMT6nWtdw3c",
    "outputId": "498cc044-c355-4a65-9d2e-9e6c07923d24"
   },
   "outputs": [],
   "source": [
    "explore_data(android_clean, 0, 3, True)"
   ]
  },
  {
   "cell_type": "code",
   "execution_count": null,
   "metadata": {
    "colab": {},
    "colab_type": "code",
    "id": "mh8pNstMdw3h",
    "outputId": "32641067-3ccc-4232-87b9-5d8a56271e67"
   },
   "outputs": [],
   "source": [
    "print(ios[813][1])\n",
    "print(ios[6731][1])\n",
    "\n",
    "print(android_clean[4412][0])\n",
    "print(android_clean[7940][0])"
   ]
  },
  {
   "cell_type": "code",
   "execution_count": null,
   "metadata": {
    "colab": {},
    "colab_type": "code",
    "id": "AJ2xPuuDdw3n",
    "outputId": "cd533d78-9fc4-45d5-861d-b8af8528707f"
   },
   "outputs": [],
   "source": [
    "def is_english(string):\n",
    "    \n",
    "    for character in string:\n",
    "        if ord(character) > 127:\n",
    "            return False\n",
    "    \n",
    "    return True\n",
    "\n",
    "print(is_english('Instagram'))\n",
    "print(is_english('爱奇艺PPS -《欢乐颂2》电视剧热播'))"
   ]
  },
  {
   "cell_type": "code",
   "execution_count": null,
   "metadata": {
    "colab": {},
    "colab_type": "code",
    "id": "9n57U2gSdw3s",
    "outputId": "58570323-bd37-4969-9e68-9e2bd0f58708"
   },
   "outputs": [],
   "source": [
    "print(is_english('Docs To Go™ Free Office Suite'))\n",
    "print(is_english('Instachat 😜'))\n",
    "\n",
    "print(ord('™'))\n",
    "print(ord('😜'))"
   ]
  },
  {
   "cell_type": "code",
   "execution_count": null,
   "metadata": {
    "colab": {},
    "colab_type": "code",
    "id": "moN9tdiQdw3x",
    "outputId": "a1e6aef7-2b8d-4c13-cced-ad24933f035a"
   },
   "outputs": [],
   "source": [
    "import unicodedata\n",
    "\n",
    "def is_english(string):\n",
    "    for character in string:\n",
    "        if ord(character) > 127 or unicodedata.category(character)[0] != 'L':\n",
    "            return False\n",
    "    \n",
    "    return True\n",
    "\n",
    "print(is_english('Docs To Go™ Free Office Suite'))\n",
    "print(is_english('Instachat 😜'))"
   ]
  },
  {
   "cell_type": "code",
   "execution_count": null,
   "metadata": {
    "colab": {},
    "colab_type": "code",
    "id": "sLb6Ncavdw32",
    "outputId": "6637a501-1e77-4c7b-a6b6-6f4c1914e325"
   },
   "outputs": [],
   "source": [
    "android_english = [app for app in android_clean if is_english(app[0])]\n",
    "ios_english = [app for app in ios if is_english(app[1])]\n",
    "\n",
    "explore_data(android_english, 0, 3, True)\n",
    "print('\\n')\n",
    "explore_data(ios_english, 0, 3, True)\n"
   ]
  },
  {
   "cell_type": "code",
   "execution_count": null,
   "metadata": {
    "colab": {},
    "colab_type": "code",
    "id": "4TXBzJVwdw38",
    "outputId": "f1c6694d-b2c1-4f89-a455-52ce2f1da0cf"
   },
   "outputs": [],
   "source": [
    "android_final = [app for app in android_english if app[7] == '0']\n",
    "ios_final = [app for app in ios_english if app[4] == '0.0']\n",
    "\n",
    "print(len(android_final))\n",
    "print(len(ios_final))"
   ]
  },
  {
   "cell_type": "code",
   "execution_count": 18,
   "metadata": {
    "colab": {},
    "colab_type": "code",
    "id": "7CTAV3ULdw3_"
   },
   "outputs": [],
   "source": [
    "def freq_table(dataset, index):\n",
    "    table = {}\n",
    "    total = 0\n",
    "    \n",
    "    for row in dataset:\n",
    "        total += 1\n",
    "        value = row[index]\n",
    "        if value in table:\n",
    "            table[value] += 1\n",
    "        else:\n",
    "            table[value] = 1\n",
    "    \n",
    "    table_percentages = {}\n",
    "    for key in table:\n",
    "        percentage = (table[key] / total) * 100\n",
    "        table_percentages[key] = percentage \n",
    "    \n",
    "    return table_percentages\n",
    "\n",
    "\n",
    "def display_table(dataset, index):\n",
    "    table = freq_table(dataset, index)\n",
    "    table_display = []\n",
    "    for key in table:\n",
    "        key_val_as_tuple = (table[key], key)\n",
    "        table_display.append(key_val_as_tuple)\n",
    "        \n",
    "    table_sorted = sorted(table_display, reverse = True)\n",
    "    for entry in table_sorted:\n",
    "        print(entry[1], ':', entry[0])"
   ]
  },
  {
   "cell_type": "code",
   "execution_count": null,
   "metadata": {
    "colab": {},
    "colab_type": "code",
    "id": "DdCoVYyndw4C",
    "outputId": "2027422a-3f94-4260-e298-545cfefafe6f"
   },
   "outputs": [],
   "source": [
    "display_table(ios_final, -5)"
   ]
  },
  {
   "cell_type": "code",
   "execution_count": null,
   "metadata": {
    "colab": {},
    "colab_type": "code",
    "id": "OjWHtqPIdw4H",
    "outputId": "1a7ee405-4f72-4086-9120-4256f8a6dfc0"
   },
   "outputs": [],
   "source": [
    "display_table(android_final, 1) # Category"
   ]
  },
  {
   "cell_type": "code",
   "execution_count": null,
   "metadata": {
    "colab": {},
    "colab_type": "code",
    "id": "pra8hj7_dw4K",
    "outputId": "e096aafb-c4cd-44c7-b6a1-061059f4079b"
   },
   "outputs": [],
   "source": [
    "display_table(android_final, -4)"
   ]
  },
  {
   "cell_type": "code",
   "execution_count": null,
   "metadata": {
    "colab": {},
    "colab_type": "code",
    "id": "J_5ACupHdw4T",
    "outputId": "af0fc1fe-a241-4390-f786-3a784b29c7fa"
   },
   "outputs": [],
   "source": [
    "genres_ios = freq_table(ios_final, -5)\n",
    "\n",
    "for genre in genres_ios:\n",
    "    total = 0\n",
    "    len_genre = 0\n",
    "    \n",
    "    for app in ios_final:\n",
    "        if app[-5] == genre:\n",
    "            n_ratings = float(app[5])\n",
    "            total += n_ratings\n",
    "            len_genre += 1\n",
    "    \n",
    "    avg_n_ratings = total / len_genre\n",
    "    print(f\"{genre}: {avg_n_ratings:.2f}\")"
   ]
  },
  {
   "cell_type": "code",
   "execution_count": null,
   "metadata": {
    "colab": {},
    "colab_type": "code",
    "id": "rdNDNVbVdw4X",
    "outputId": "21032c92-d8cf-4736-ff17-8f7d386d8dcb"
   },
   "outputs": [],
   "source": [
    "for app in ios_final:\n",
    "    if app[-5] == 'Navigation':\n",
    "        print(app[1], ':', app[5]) # print name and number of ratings"
   ]
  },
  {
   "cell_type": "code",
   "execution_count": null,
   "metadata": {
    "colab": {},
    "colab_type": "code",
    "id": "T2H7TxY6dw4a",
    "outputId": "70aba60f-bc0a-4547-fa5b-966bb457a7c4"
   },
   "outputs": [],
   "source": [
    "for app in ios_final:\n",
    "    if app[-5] == 'Reference':\n",
    "        print(app[1], ':', app[5])"
   ]
  },
  {
   "cell_type": "code",
   "execution_count": null,
   "metadata": {
    "colab": {},
    "colab_type": "code",
    "id": "k9XN-3Oxdw4e",
    "outputId": "4cf0acfe-8452-4c92-e400-c0c0879ebe1c"
   },
   "outputs": [],
   "source": [
    "display_table(android_final, 5) # the Installs columns"
   ]
  },
  {
   "cell_type": "code",
   "execution_count": null,
   "metadata": {
    "colab": {},
    "colab_type": "code",
    "id": "qLmoJbd_dw4h",
    "outputId": "484a9775-2a55-4790-9df4-4c3e0a8a031b"
   },
   "outputs": [],
   "source": [
    "categories_android = freq_table(android_final, 1)\n",
    "\n",
    "for category in categories_android:\n",
    "    total = 0\n",
    "    len_category = 0\n",
    "    for app in android_final:\n",
    "        category_app = app[1]\n",
    "        if category_app == category:            \n",
    "            n_installs = app[5]\n",
    "            n_installs = n_installs.replace(',', '')\n",
    "            n_installs = n_installs.replace('+', '')\n",
    "            total += float(n_installs)\n",
    "            len_category += 1\n",
    "    avg_n_installs = total / len_category\n",
    "    print(category, ':', avg_n_installs)"
   ]
  },
  {
   "cell_type": "code",
   "execution_count": null,
   "metadata": {
    "colab": {},
    "colab_type": "code",
    "id": "yDgqLB3xdw4p",
    "outputId": "020dc10e-5dc0-4983-b4ed-ddb4631fe760"
   },
   "outputs": [],
   "source": [
    "for app in android_final:\n",
    "    if app[1] == 'COMMUNICATION' and (app[5] == '1,000,000,000+'\n",
    "                                      or app[5] == '500,000,000+'\n",
    "                                      or app[5] == '100,000,000+'):\n",
    "        print(app[0], ':', app[5])"
   ]
  },
  {
   "cell_type": "code",
   "execution_count": null,
   "metadata": {
    "colab": {},
    "colab_type": "code",
    "id": "GVS8X24bdw48",
    "outputId": "864d77ca-7455-46e5-b028-72d81f553da8"
   },
   "outputs": [],
   "source": [
    "under_100_m = []\n",
    "\n",
    "for app in android_final:\n",
    "    n_installs = app[5]\n",
    "    n_installs = n_installs.replace(',', '')\n",
    "    n_installs = n_installs.replace('+', '')\n",
    "    if (app[1] == 'COMMUNICATION') and (float(n_installs) < 100000000):\n",
    "        under_100_m.append(float(n_installs))\n",
    "        \n",
    "sum(under_100_m) / len(under_100_m)"
   ]
  },
  {
   "cell_type": "code",
   "execution_count": null,
   "metadata": {
    "colab": {},
    "colab_type": "code",
    "id": "EsjrE2Nudw5B",
    "outputId": "04f55ee7-8355-412d-c43b-8f3b3ebd4db4"
   },
   "outputs": [],
   "source": [
    "for app in android_final:\n",
    "    if app[1] == 'BOOKS_AND_REFERENCE':\n",
    "        print(app[0], ':', app[5])"
   ]
  },
  {
   "cell_type": "code",
   "execution_count": null,
   "metadata": {
    "colab": {},
    "colab_type": "code",
    "id": "sPYrMGhKdw5H",
    "outputId": "98571b49-b279-4e0c-c61c-517939d09ce4"
   },
   "outputs": [],
   "source": [
    "for app in android_final:\n",
    "    if app[1] == 'BOOKS_AND_REFERENCE' and (app[5] == '1,000,000,000+'\n",
    "                                            or app[5] == '500,000,000+'\n",
    "                                            or app[5] == '100,000,000+'):\n",
    "        print(app[0], ':', app[5])"
   ]
  },
  {
   "cell_type": "code",
   "execution_count": null,
   "metadata": {
    "colab": {},
    "colab_type": "code",
    "id": "s9pL6QCddw5K",
    "outputId": "cf1d2dc2-8b71-4b84-ad1c-210cbae4e9db"
   },
   "outputs": [],
   "source": [
    "for app in android_final:\n",
    "    if app[1] == 'BOOKS_AND_REFERENCE' and (app[5] == '1,000,000+'\n",
    "                                            or app[5] == '5,000,000+'\n",
    "                                            or app[5] == '10,000,000+'\n",
    "                                            or app[5] == '50,000,000+'):\n",
    "        print(app[0], ':', app[5])"
   ]
  }
 ],
 "metadata": {
  "colab": {
   "collapsed_sections": [
    "nxHDmzy-dw4B"
   ],
   "name": "Mission350Solutions.ipynb",
   "provenance": [],
   "version": "0.3.2"
  },
  "kernelspec": {
   "display_name": "Python 3",
   "language": "python",
   "name": "python3"
  },
  "language_info": {
   "codemirror_mode": {
    "name": "ipython",
    "version": 3
   },
   "file_extension": ".py",
   "mimetype": "text/x-python",
   "name": "python",
   "nbconvert_exporter": "python",
   "pygments_lexer": "ipython3",
   "version": "3.8.2"
  }
 },
 "nbformat": 4,
 "nbformat_minor": 4
}
